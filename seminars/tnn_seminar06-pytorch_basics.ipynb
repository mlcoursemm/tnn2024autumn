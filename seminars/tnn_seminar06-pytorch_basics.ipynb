{
 "cells": [
  {
   "cell_type": "markdown",
   "metadata": {},
   "source": [
    "# Основы фреймворка PyTorch. Тензоры и работа с данными.\n",
    "\n",
    "### Февраль 2022"
   ]
  },
  {
   "cell_type": "markdown",
   "metadata": {},
   "source": [
    "## Введение\n",
    "\n",
    "Успехи современного машинного обучения, к которому относится глубокое обучение, держатся на пяти китах:\n",
    "* __Данные__. Большие объёмы (размеченных, неразмеченных или слабо размеченных) данных привели к необходимости их эффективной обработки и появлению новых задач.\n",
    "| Год            | Название датасета | Задача                | Размер датасета | Примечания                                                               |\n",
    "|----------------|-------------------|-----------------------|-----------------|-----------------------------------------------------------------------|\n",
    "| 1998           | MNIST             | Классификация         | 60K             | 10 рукописных цифр, черно-белые изображения 28х28 пикселей            |\n",
    "| 2009           | CIFAR10           | Классификация         | 60K             | 10 классов, цветные изображения 32х32 пикселей                        |\n",
    "| 2009           | CIFAR100          | Классификация         | 60K             | 100 классов, цветные изображения 32х32 пикселей                       |\n",
    "| 2009(2014)     | ImageNet          | Классификация         | 14M(1M)         | 21K (1К) классов разного размера (как правило, 224х224 пикселя или более)     |\n",
    "| 2010           | PASCAL VOC        | Детекция, сегментация | 500K            | 20 классов, разметка положения и размеров объектов (bounding box)     |\n",
    "| 2015           | MS COCO           | Детекция, сегментация | 2.5М            | 91 класс                                                              |\n",
    "| 2017           | Open Images       | Детекция, сегментация | 9М              | 300 классов                                                           |\n",
    "| 2019 или ранее | JFT-300M          | Классификация         | 300M            | Закрытый датасет Google                                               |\n",
    "| 2020           | CLIP              | Мультимодальный       | 400M            | Закрытый датасет OpenAI, содержащий изображения с текстовыми описаниями. |\n",
    "\n",
    "* __Алгоритмы__. Для решения новых задач были разработаны новые методы. Сюда входят как архитектуры нейросетей (MLP, LeNet, AlexNet, VGG, ResNet, MobileNet, EfficientNet, Transformer, ViT, CLIP, RNN, GRU, LSTM, GAN, Автоэнкодеры, VAE и многие другие), так и методы их эффективного обучения (обратное распространение ошибки, различные алгоритмы оптимизации, распределённые вычисления, обучение с понижением точности вычислений) и инференса (дистилляция, прунинг, квантизация, тензорные декомпозиции).\n",
    "* __Вычислительные средства__. Для обучения современных алгоритмов требуются значительные вычислительные ресурсы. Если простые модели на небольших датасетах можно обучать за несколько минут на обычных процессорах, то самые мощные из современных архитектур требуют несколько недель обучения на вычислительных кластерах из нескольких сотен видеокарт типа NVidia Tesla T100 или A100. Для повышения эффективности обучения моделей было разработано специальное железо - Neural Processing Units - например, Google Cloud TPU или Huawei Ascend.\n",
    "* __Библиотеки и фреймворки__. Для эффективной реализации алгоритмов на вычислительных средств в разное время были разработаны фреймворки, части из которых уже устарела, а часть - только набирает силу: Caffe, Torch, Theano, TensorFlow, MXNet, PaddlePaddle, Keras, PyTorch, JAX, ONNX, MindSpore.\n",
    "* __Талантливые исследователи и разработчики__. То есть, вы. Те, кто придумает новые математические методы для эффективного решения всё более сложных задач, кто сможет реализовать алгоритмы и разработать железо.\n",
    "\n",
    "## Виды вычислительных графов\n",
    "\n",
    "Так как нейронная сеть формализуется ациклическим ориентированным графом, то одним из важнейшим свойством фреймворка является способ исполнения вычислений для заданного графа сети. Существует два способа:\n",
    "1. __Статический__. При этом способе граф сети определяется до начала обучения или инференса. Это позволяет заранее определить формулы, по которым будут вычисляться градиенты, а также проводить оптимизации на графе и добиваться более высокой производительности вычислений. К таким фреймворкам относятся Caffe, TensorFlow, MXNet, MindSpore. Недостатком этого режима являются некоторые ограничения на возможные операции и повышенная сложность отладки алгоритма.\n",
    "2. __Динамический__. При этом способе в ходе выполнения операторов сети путь, по которому производится прямой проход сети (forward pass), журналируется на каждом шаге прямого прохода. На обратном проходе (backward pass) при вычислении градиентов автоматическое дифференцирование производится по журналу, записанному на прямом проходе. Такой подход обеспечивает высокую гибкость: динамическая работа модели позволяет делать различные проходы по графу модели на каждом шаге и реализовать более сложные алгоритмы. При этом отладка моделей зачастую производится проще, чем в статических фреймворках. С другой стороны, динамичность программы не позволяет оптимизировать программы настолько, насколько это возможно в статических фреймворках."
   ]
  },
  {
   "cell_type": "markdown",
   "metadata": {},
   "source": [
    "### Фреймворк PyTorch.\n",
    "\n",
    "![alt text](seminar01-basics_extra/pytorch-logo-dark.png)\n",
    "\n",
    "Официальный сайт: https://pytorch.org/\n",
    "\n",
    "PyTorch (\"Пайторч\") - это оптимизированная библиотека тензорных вычислений с использованием GPU или CPU. PyTorch является динамическим фреймворком.\n",
    "\n",
    "*Здесь и далее, говоря \"Торч\", мы будем иметь ввиду не старый фреймворк C/Lua Torch, в настоящее время не поддерживаемый, а PyTorch*\n",
    "\n",
    "К достоинствам этого фреймворка относятся:\n",
    "* Простота и удобство использования. PyTorch имеет API для Python, Java, C++. В этом курсе мы будем рассматривать примеры работы с PyTorch на Python. Механизм автоматического дифференцирования позволяет создавать и обучать модели с минимальными усилиями.\n",
    "* Гибкость фреймворка делает его хорошим инструментом для проверки самых смелых идей.\n",
    "* Эффективность реализации. Реализация на C++ и CUDA делает обучение достаточно эффективным.\n",
    "* Удобство отладки моделей. Отладочные печати можно делать в любом месте модели.\n",
    "* Большое сообщество разработчиков и большое количество свободных реализаций моделей на github. В настоящее время PyTorch является самым популярным фреймворком среди исследователей.\n",
    "\n",
    "Но есть и недостатки и особенности, о которых следует знать:\n",
    "* Фреймворки, осуществляющие статическую компиляцию графа модели (например, MindSpore), позволяют \"выжать\" из железа большую производительность и на практике могут обучать модели быстрее.\n",
    "* Излишняя гибкость разработанной модели может вызвать трудности при портировании модели на специализированное железо.\n",
    "* Так как глубокое обучение развивается очень активно, через некоторое время могут появиться более популярные и мощные фреймворки. Поэтому хороший исследователь должен с одной стороны изучать и понимать суть методов и алгоритмов, которые он использует, а с другой стороны - следить за современными средствами реализации этих алгоритмов."
   ]
  },
  {
   "cell_type": "markdown",
   "metadata": {},
   "source": [
    "### Установка PyTorch.\n",
    "\n",
    "Рекомендуемый способ - с помощью conda.\n",
    "\n",
    "Версия для CPU:\n",
    "\n",
    "```\n",
    "conda install pytorch torchvision torchaudio cpuonly -c pytorch\n",
    "```\n",
    "\n",
    "Версия для GPU NVidia с поддержкой CUDA:\n",
    "\n",
    "```\n",
    "conda install pytorch torchvision torchaudio cudatoolkit=11.3 -c pytorch\n",
    "```\n",
    "\n",
    "Подробности: https://pytorch.org/get-started/locally/"
   ]
  },
  {
   "cell_type": "markdown",
   "metadata": {},
   "source": [
    "Как правило, работа с фреймворками глубокого обучения состоит из следующих этапов:\n",
    "1. Загрузка данных, аугментации, нормализация\n",
    "2. Создание модели\n",
    "3. Оптимизация параметров модели\n",
    "4. Сохранение модели\n",
    "\n",
    "Импорт модулей."
   ]
  },
  {
   "cell_type": "code",
   "execution_count": 1,
   "metadata": {
    "tags": []
   },
   "outputs": [
    {
     "data": {
      "text/plain": [
       "<torch._C.Generator at 0x11500f210>"
      ]
     },
     "execution_count": 1,
     "metadata": {},
     "output_type": "execute_result"
    }
   ],
   "source": [
    "import torch\n",
    "import numpy as np\n",
    "torch.manual_seed(100)"
   ]
  },
  {
   "cell_type": "markdown",
   "metadata": {},
   "source": [
    "В контексте глубокого обучения Тензором называют многомерный массив данных. В PyTorch тензором является объект класса torch.Tensor.\n",
    "\n",
    "Многие свойства тензора являются аналогами свойств многомерных массивов numpy."
   ]
  },
  {
   "cell_type": "code",
   "execution_count": 2,
   "metadata": {
    "tags": []
   },
   "outputs": [
    {
     "name": "stdout",
     "output_type": "stream",
     "text": [
      "tensor([[1, 2],\n",
      "        [3, 4]])\n",
      "<class 'torch.Tensor'>\n"
     ]
    }
   ],
   "source": [
    "data = [[1, 2],[3, 4]]\n",
    "x_data = torch.tensor(data)\n",
    "print(x_data)\n",
    "print(x_data.__class__)"
   ]
  },
  {
   "cell_type": "markdown",
   "metadata": {},
   "source": [
    "Создать тензор, заполненный единицами, и имеющий размерность другого тензора."
   ]
  },
  {
   "cell_type": "code",
   "execution_count": 3,
   "metadata": {
    "tags": []
   },
   "outputs": [
    {
     "name": "stdout",
     "output_type": "stream",
     "text": [
      "Ones Tensor: \n",
      " tensor([[1, 1],\n",
      "        [1, 1]]) \n",
      "\n"
     ]
    }
   ],
   "source": [
    "x_ones = torch.ones_like(x_data) # retains the properties of x_data\n",
    "print(f\"Ones Tensor: \\n {x_ones} \\n\")"
   ]
  },
  {
   "cell_type": "markdown",
   "metadata": {},
   "source": [
    "Создать тензор, заполненный случайными числами, распределёнными равномерно на интервале [0, 1), и имеющий размерность другого тензора и тип float32."
   ]
  },
  {
   "cell_type": "code",
   "execution_count": 4,
   "metadata": {
    "tags": []
   },
   "outputs": [
    {
     "name": "stdout",
     "output_type": "stream",
     "text": [
      "Random Tensor: \n",
      " tensor([[0.1117, 0.8158],\n",
      "        [0.2626, 0.4839]]) \n",
      "\n"
     ]
    }
   ],
   "source": [
    "x_rand = torch.rand_like(x_data, dtype=torch.float32) # overrides the datatype of x_data\n",
    "print(f\"Random Tensor: \\n {x_rand} \\n\")"
   ]
  },
  {
   "cell_type": "markdown",
   "metadata": {},
   "source": [
    "Тоже самое, но размерность задаётся кортежем:"
   ]
  },
  {
   "cell_type": "code",
   "execution_count": 5,
   "metadata": {
    "tags": []
   },
   "outputs": [
    {
     "name": "stdout",
     "output_type": "stream",
     "text": [
      "Random Tensor: \n",
      " tensor([[0.6765, 0.7539, 0.2627],\n",
      "        [0.0428, 0.2080, 0.1180]]) \n",
      "\n",
      "Ones Tensor: \n",
      " tensor([[1., 1., 1.],\n",
      "        [1., 1., 1.]]) \n",
      "\n",
      "Zeros Tensor: \n",
      " tensor([[0., 0., 0.],\n",
      "        [0., 0., 0.]])\n"
     ]
    }
   ],
   "source": [
    "shape = (2,3,)\n",
    "rand_tensor = torch.rand(shape)\n",
    "ones_tensor = torch.ones(shape)\n",
    "zeros_tensor = torch.zeros(shape)\n",
    "\n",
    "print(f\"Random Tensor: \\n {rand_tensor} \\n\")\n",
    "print(f\"Ones Tensor: \\n {ones_tensor} \\n\")\n",
    "print(f\"Zeros Tensor: \\n {zeros_tensor}\")"
   ]
  },
  {
   "cell_type": "markdown",
   "metadata": {},
   "source": [
    "Основные свойства тензора - его размерность, тип и устройство, в памяти которого он находится:"
   ]
  },
  {
   "cell_type": "code",
   "execution_count": 8,
   "metadata": {
    "tags": []
   },
   "outputs": [
    {
     "name": "stdout",
     "output_type": "stream",
     "text": [
      "Shape of tensor: torch.Size([3, 4])\n",
      "Datatype of tensor: torch.float32\n",
      "Device tensor is stored on: cpu\n"
     ]
    }
   ],
   "source": [
    "tensor = torch.rand(3,4)\n",
    "\n",
    "print(f\"Shape of tensor: {tensor.shape}\")\n",
    "print(f\"Datatype of tensor: {tensor.dtype}\")\n",
    "print(f\"Device tensor is stored on: {tensor.device}\")"
   ]
  },
  {
   "cell_type": "markdown",
   "metadata": {},
   "source": [
    "Переместить тензор на другое устройство можно с помощью метода to. При наличии GPU с поддержкой CUDA можно переместить его в видеопамять."
   ]
  },
  {
   "cell_type": "code",
   "execution_count": 9,
   "metadata": {
    "tags": []
   },
   "outputs": [],
   "source": [
    "if torch.cuda.is_available():\n",
    "    tensor = tensor.to('cuda')"
   ]
  },
  {
   "cell_type": "code",
   "execution_count": 10,
   "metadata": {
    "tags": []
   },
   "outputs": [
    {
     "data": {
      "text/plain": [
       "False"
      ]
     },
     "execution_count": 10,
     "metadata": {},
     "output_type": "execute_result"
    }
   ],
   "source": [
    "torch.cuda.is_available()"
   ]
  },
  {
   "cell_type": "markdown",
   "metadata": {},
   "source": [
    "Индексация и слайсы работают точно так же, как в numpy:"
   ]
  },
  {
   "cell_type": "code",
   "execution_count": 11,
   "metadata": {
    "tags": []
   },
   "outputs": [
    {
     "name": "stdout",
     "output_type": "stream",
     "text": [
      "First row:  tensor([1., 1., 1., 1.])\n",
      "First column:  tensor([1., 1., 1., 1.])\n",
      "Last column: tensor([1., 1., 1., 1.])\n",
      "tensor([[1., 0., 1., 1.],\n",
      "        [1., 0., 1., 1.],\n",
      "        [1., 0., 1., 1.],\n",
      "        [1., 0., 1., 1.]])\n"
     ]
    }
   ],
   "source": [
    "tensor = torch.ones(4, 4)\n",
    "print('First row: ', tensor[0])\n",
    "print('First column: ', tensor[:, 0])\n",
    "print('Last column:', tensor[..., -1])\n",
    "tensor[:,1] = 0\n",
    "print(tensor)"
   ]
  },
  {
   "cell_type": "markdown",
   "metadata": {},
   "source": [
    "Конкатенация тензоров по одной из размерностей осуществляется с помощью torch.cat:"
   ]
  },
  {
   "cell_type": "code",
   "execution_count": 12,
   "metadata": {
    "tags": []
   },
   "outputs": [
    {
     "name": "stdout",
     "output_type": "stream",
     "text": [
      "tensor([[1., 0., 1., 1., 1., 0., 1., 1., 1., 0., 1., 1.],\n",
      "        [1., 0., 1., 1., 1., 0., 1., 1., 1., 0., 1., 1.],\n",
      "        [1., 0., 1., 1., 1., 0., 1., 1., 1., 0., 1., 1.],\n",
      "        [1., 0., 1., 1., 1., 0., 1., 1., 1., 0., 1., 1.]])\n"
     ]
    }
   ],
   "source": [
    "t1 = torch.cat([tensor, tensor, tensor], dim=1)\n",
    "print(t1)"
   ]
  },
  {
   "cell_type": "markdown",
   "metadata": {},
   "source": [
    "### Арифметические операции\n",
    "\n",
    "Транспонирование матриц осуществляется вызовом .T\n",
    "\n",
    "Умножение матриц - оператор @ или метод matmul."
   ]
  },
  {
   "cell_type": "code",
   "execution_count": 13,
   "metadata": {
    "tags": []
   },
   "outputs": [],
   "source": [
    "y1 = tensor @ tensor.T\n",
    "y2 = tensor.matmul(tensor.T)"
   ]
  },
  {
   "cell_type": "code",
   "execution_count": 14,
   "metadata": {
    "tags": []
   },
   "outputs": [
    {
     "name": "stdout",
     "output_type": "stream",
     "text": [
      "tensor([[3., 3., 3., 3.],\n",
      "        [3., 3., 3., 3.],\n",
      "        [3., 3., 3., 3.],\n",
      "        [3., 3., 3., 3.]])\n",
      "tensor([[3., 3., 3., 3.],\n",
      "        [3., 3., 3., 3.],\n",
      "        [3., 3., 3., 3.],\n",
      "        [3., 3., 3., 3.]])\n"
     ]
    }
   ],
   "source": [
    "print(y1)\n",
    "print(y2)"
   ]
  },
  {
   "cell_type": "code",
   "execution_count": 15,
   "metadata": {
    "tags": []
   },
   "outputs": [
    {
     "data": {
      "text/plain": [
       "tensor([[3., 3., 3., 3.],\n",
       "        [3., 3., 3., 3.],\n",
       "        [3., 3., 3., 3.],\n",
       "        [3., 3., 3., 3.]])"
      ]
     },
     "execution_count": 15,
     "metadata": {},
     "output_type": "execute_result"
    }
   ],
   "source": [
    "y3 = torch.rand_like(tensor)\n",
    "torch.matmul(tensor, tensor.T, out=y3)"
   ]
  },
  {
   "cell_type": "markdown",
   "metadata": {},
   "source": [
    "Получить значение тензора, являющегося скаляром, можно с помощью метода item()."
   ]
  },
  {
   "cell_type": "code",
   "execution_count": 16,
   "metadata": {
    "tags": []
   },
   "outputs": [
    {
     "name": "stdout",
     "output_type": "stream",
     "text": [
      "tensor(48.) <class 'torch.Tensor'>\n",
      "48.0 <class 'float'>\n"
     ]
    }
   ],
   "source": [
    "agg = y3.sum()\n",
    "agg_item = agg.item()\n",
    "print(agg, type(agg))\n",
    "print(agg_item, type(agg_item))"
   ]
  },
  {
   "cell_type": "markdown",
   "metadata": {},
   "source": [
    "### Взаимодействие с Numpy"
   ]
  },
  {
   "cell_type": "markdown",
   "metadata": {},
   "source": [
    "Преобразовать тензор в массив numpy можно с помощью метода numpy().\n",
    "\n",
    "Важно:\n",
    "1. Для возможности вызова метода numpy() тензор должен находиться в оперативной памяти (т.е. устройство - cpu). Если тензор находится в видеопамяти, его необходимо перенести в оперативную память методом cpu().\n",
    "2. Если с тензором связаны градиенты (requires_grad=True), то для возможности вызова метода numpy() необходимо получить тензор без градиентов с помощью метода detach()."
   ]
  },
  {
   "cell_type": "code",
   "execution_count": 17,
   "metadata": {
    "tags": []
   },
   "outputs": [
    {
     "name": "stdout",
     "output_type": "stream",
     "text": [
      "t: tensor([1., 1., 1., 1., 1.], requires_grad=True)\n",
      "n: [1. 1. 1. 1. 1.]\n"
     ]
    }
   ],
   "source": [
    "t = torch.ones(5, requires_grad=True)\n",
    "if torch.cuda.is_available():\n",
    "    t = t.to('cuda')\n",
    "print(f\"t: {t}\")\n",
    "n = t.detach().cpu().numpy()\n",
    "print(f\"n: {n}\")"
   ]
  },
  {
   "cell_type": "markdown",
   "metadata": {},
   "source": [
    "При этом изменения в массиве numpy будут отражаться и в тензоре PyTorch:"
   ]
  },
  {
   "cell_type": "code",
   "execution_count": 18,
   "metadata": {
    "tags": []
   },
   "outputs": [
    {
     "name": "stdout",
     "output_type": "stream",
     "text": [
      "t: tensor([3., 3., 3., 3., 3.], requires_grad=True)\n",
      "n: [3. 3. 3. 3. 3.]\n"
     ]
    }
   ],
   "source": [
    "n += 2\n",
    "print(f\"t: {t}\")\n",
    "print(f\"n: {n}\")"
   ]
  },
  {
   "cell_type": "markdown",
   "metadata": {},
   "source": [
    "Более подробно об операциях с тензорами можно почитать здесь: https://pytorch.org/docs/stable/tensors.html"
   ]
  },
  {
   "cell_type": "markdown",
   "metadata": {},
   "source": [
    "## Работа с данными."
   ]
  },
  {
   "cell_type": "markdown",
   "metadata": {},
   "source": [
    "В PyTorch существуют два основных класса для работы с данными:\n",
    "* Dataset - класс хранилища данных и меток.\n",
    "* DataLoader - итерируемый класс-обёртка вокруг Dataset.\n",
    "\n",
    "Пример: загрузка датасета FashionMNIST.\n",
    "\n",
    "Конструктор класса datasets.FashionMNIST имеет следующие параметры:\n",
    "1. root - путь, где будут храниться данные\n",
    "2. train - определяет обучающую или тестовую часть датасета мы будем загружать\n",
    "3. download - загрузить ли данные из Интернета, если они отсутствуют в root?\n",
    "4. transform - набор преобразований, применяемых к изображениям в датасете (в этом примере мы преобразуем данные в тензор)\n",
    "5. target_transform - набор преобразований, применяемых к меткам в датасете (в этом примере эти преобразования отсутствуют)"
   ]
  },
  {
   "cell_type": "code",
   "execution_count": 19,
   "metadata": {
    "tags": []
   },
   "outputs": [
    {
     "name": "stdout",
     "output_type": "stream",
     "text": [
      "Downloading http://fashion-mnist.s3-website.eu-central-1.amazonaws.com/train-images-idx3-ubyte.gz\n",
      "Downloading http://fashion-mnist.s3-website.eu-central-1.amazonaws.com/train-images-idx3-ubyte.gz to data/FashionMNIST/raw/train-images-idx3-ubyte.gz\n"
     ]
    },
    {
     "name": "stderr",
     "output_type": "stream",
     "text": [
      "100%|██████████| 26421880/26421880 [00:06<00:00, 3811662.00it/s] \n"
     ]
    },
    {
     "name": "stdout",
     "output_type": "stream",
     "text": [
      "Extracting data/FashionMNIST/raw/train-images-idx3-ubyte.gz to data/FashionMNIST/raw\n",
      "\n",
      "Downloading http://fashion-mnist.s3-website.eu-central-1.amazonaws.com/train-labels-idx1-ubyte.gz\n",
      "Downloading http://fashion-mnist.s3-website.eu-central-1.amazonaws.com/train-labels-idx1-ubyte.gz to data/FashionMNIST/raw/train-labels-idx1-ubyte.gz\n"
     ]
    },
    {
     "name": "stderr",
     "output_type": "stream",
     "text": [
      "100%|██████████| 29515/29515 [00:00<00:00, 479015.63it/s]\n"
     ]
    },
    {
     "name": "stdout",
     "output_type": "stream",
     "text": [
      "Extracting data/FashionMNIST/raw/train-labels-idx1-ubyte.gz to data/FashionMNIST/raw\n",
      "\n",
      "Downloading http://fashion-mnist.s3-website.eu-central-1.amazonaws.com/t10k-images-idx3-ubyte.gz\n",
      "Downloading http://fashion-mnist.s3-website.eu-central-1.amazonaws.com/t10k-images-idx3-ubyte.gz to data/FashionMNIST/raw/t10k-images-idx3-ubyte.gz\n"
     ]
    },
    {
     "name": "stderr",
     "output_type": "stream",
     "text": [
      "100%|██████████| 4422102/4422102 [00:00<00:00, 6394553.87it/s]\n"
     ]
    },
    {
     "name": "stdout",
     "output_type": "stream",
     "text": [
      "Extracting data/FashionMNIST/raw/t10k-images-idx3-ubyte.gz to data/FashionMNIST/raw\n",
      "\n",
      "Downloading http://fashion-mnist.s3-website.eu-central-1.amazonaws.com/t10k-labels-idx1-ubyte.gz\n",
      "Downloading http://fashion-mnist.s3-website.eu-central-1.amazonaws.com/t10k-labels-idx1-ubyte.gz to data/FashionMNIST/raw/t10k-labels-idx1-ubyte.gz\n"
     ]
    },
    {
     "name": "stderr",
     "output_type": "stream",
     "text": [
      "100%|██████████| 5148/5148 [00:00<00:00, 2299252.16it/s]"
     ]
    },
    {
     "name": "stdout",
     "output_type": "stream",
     "text": [
      "Extracting data/FashionMNIST/raw/t10k-labels-idx1-ubyte.gz to data/FashionMNIST/raw\n",
      "\n"
     ]
    },
    {
     "name": "stderr",
     "output_type": "stream",
     "text": [
      "\n"
     ]
    }
   ],
   "source": [
    "import torch\n",
    "from torch.utils.data import Dataset\n",
    "from torchvision import datasets\n",
    "from torchvision.transforms import ToTensor\n",
    "import matplotlib.pyplot as plt\n",
    "\n",
    "training_data = datasets.FashionMNIST(\n",
    "    root=\"data\",\n",
    "    train=True,\n",
    "    download=True,\n",
    "    transform=ToTensor()\n",
    ")\n",
    "\n",
    "test_data = datasets.FashionMNIST(\n",
    "    root=\"data\",\n",
    "    train=False,\n",
    "    download=True,\n",
    "    transform=ToTensor()\n",
    ")"
   ]
  },
  {
   "cell_type": "markdown",
   "metadata": {},
   "source": [
    "Попробуем визуализировать данные из датасета."
   ]
  },
  {
   "cell_type": "code",
   "execution_count": 20,
   "metadata": {
    "tags": []
   },
   "outputs": [
    {
     "data": {
      "image/png": "[encoded data removed]",
      "text/plain": [
       "<Figure size 800x800 with 9 Axes>"
      ]
     },
     "metadata": {},
     "output_type": "display_data"
    }
   ],
   "source": [
    "labels_map = {\n",
    "    0: \"T-Shirt\",\n",
    "    1: \"Trouser\",\n",
    "    2: \"Pullover\",\n",
    "    3: \"Dress\",\n",
    "    4: \"Coat\",\n",
    "    5: \"Sandal\",\n",
    "    6: \"Shirt\",\n",
    "    7: \"Sneaker\",\n",
    "    8: \"Bag\",\n",
    "    9: \"Ankle Boot\",\n",
    "}\n",
    "figure = plt.figure(figsize=(8, 8))\n",
    "cols, rows = 3, 3\n",
    "for i in range(1, cols * rows + 1):\n",
    "    sample_idx = torch.randint(len(training_data), size=(1,)).item() # Случайный индекс из датасета\n",
    "    img, label = training_data[sample_idx] # Обращение по такому индексу возвращает изображение и метку элемента датасета\n",
    "    figure.add_subplot(rows, cols, i)\n",
    "    plt.title(labels_map[label])\n",
    "    plt.axis(\"off\")\n",
    "    plt.imshow(img.squeeze(), cmap=\"gray\")\n",
    "plt.show()"
   ]
  },
  {
   "cell_type": "markdown",
   "metadata": {},
   "source": [
    "Класс DataLoader представляет удобный интерфейс для итерации по датасету."
   ]
  },
  {
   "cell_type": "code",
   "execution_count": 22,
   "metadata": {
    "tags": []
   },
   "outputs": [],
   "source": [
    "from torch.utils.data import DataLoader\n",
    "\n",
    "train_dataloader = DataLoader(training_data, batch_size=64, shuffle=True)\n",
    "test_dataloader = DataLoader(test_data, batch_size=64, shuffle=True)"
   ]
  },
  {
   "cell_type": "markdown",
   "metadata": {},
   "source": [
    "Каждая итерация по даталоадеру возвращает батч данных заданного размера. Если shuffle=True, то данные возвращаются в случайном порядке."
   ]
  },
  {
   "cell_type": "code",
   "execution_count": 23,
   "metadata": {
    "tags": []
   },
   "outputs": [
    {
     "name": "stdout",
     "output_type": "stream",
     "text": [
      "Feature batch shape: torch.Size([64, 1, 28, 28])\n",
      "Labels batch shape: torch.Size([64])\n"
     ]
    },
    {
     "data": {
      "image/png": "[encoded data removed]",
      "text/plain": [
       "<Figure size 640x480 with 1 Axes>"
      ]
     },
     "metadata": {},
     "output_type": "display_data"
    },
    {
     "name": "stdout",
     "output_type": "stream",
     "text": [
      "Label: 5\n"
     ]
    }
   ],
   "source": [
    "# Display image and label.\n",
    "train_features, train_labels = next(iter(train_dataloader))\n",
    "print(f\"Feature batch shape: {train_features.size()}\")\n",
    "print(f\"Labels batch shape: {train_labels.size()}\")\n",
    "img = train_features[0].squeeze()\n",
    "label = train_labels[0]\n",
    "plt.imshow(img, cmap=\"gray\")\n",
    "plt.show()\n",
    "print(f\"Label: {label}\")"
   ]
  },
  {
   "cell_type": "markdown",
   "metadata": {},
   "source": [
    "## Создание модели"
   ]
  },
  {
   "cell_type": "markdown",
   "metadata": {},
   "source": [
    "В PyTorch как модели целиком, так и отдельные слои являются наследниками класса torch.nn.Module.\n",
    "\n",
    "Для определения поведения слоя или модели при прямом проходе (forward pass) необходимо определить метод forward.\n",
    "\n",
    "По-умолчанию вычисление градиентов на обратном проходе программировать не нужно, градиенты вычисляются автоматически.\n",
    "\n",
    "Однако, если вам потребуется определить функцию, отсутствующую в PyTorch, то это можно сделать, определив метод backward в классе вашей функции.\n",
    "\n",
    "Следующий класс задаёт простую нейронную сеть, состоящую из одной конволюции и двух полносвязных слоёв с активациями ReLU.\n",
    "\n",
    "При вызове модуля (module(x)) автоматически вызывается метод forward."
   ]
  },
  {
   "cell_type": "code",
   "execution_count": 24,
   "metadata": {
    "tags": []
   },
   "outputs": [],
   "source": [
    "from torch import nn"
   ]
  },
  {
   "cell_type": "code",
   "execution_count": 25,
   "metadata": {
    "tags": []
   },
   "outputs": [],
   "source": [
    "class NeuralNetwork(nn.Module):\n",
    "    def __init__(self):\n",
    "        super(NeuralNetwork, self).__init__()\n",
    "        self.linear_relu_stack = nn.Sequential(\n",
    "            nn.Conv2d(in_channels=1, out_channels=2, kernel_size=(3, 3), stride=2, padding=(1, 1), bias=True),\n",
    "            nn.ReLU(),\n",
    "            nn.Flatten(),\n",
    "            nn.Linear(14*14*2, 512),\n",
    "            nn.ReLU(),\n",
    "            nn.Linear(512, 10),\n",
    "        )\n",
    "\n",
    "    def forward(self, x):\n",
    "        logits = self.linear_relu_stack(x)\n",
    "        return logits"
   ]
  },
  {
   "cell_type": "markdown",
   "metadata": {},
   "source": [
    "Flatten - преобразование многомерного тензора в одномерный.\n",
    "\n",
    "Conv2d - 2D-конволюция \n",
    "\n",
    "Linear - полносвязный слой (fully-connected)\n",
    "\n",
    "Для того, чтобы выполнить вычисления на видеокарте, необходимо вызвать метод to."
   ]
  },
  {
   "cell_type": "code",
   "execution_count": 26,
   "metadata": {
    "tags": []
   },
   "outputs": [
    {
     "name": "stdout",
     "output_type": "stream",
     "text": [
      "Using cpu device\n"
     ]
    }
   ],
   "source": [
    "device = 'cuda' if torch.cuda.is_available() else 'cpu'\n",
    "print(f'Using {device} device')"
   ]
  },
  {
   "cell_type": "code",
   "execution_count": 27,
   "metadata": {
    "tags": []
   },
   "outputs": [
    {
     "name": "stdout",
     "output_type": "stream",
     "text": [
      "NeuralNetwork(\n",
      "  (linear_relu_stack): Sequential(\n",
      "    (0): Conv2d(1, 2, kernel_size=(3, 3), stride=(2, 2), padding=(1, 1))\n",
      "    (1): ReLU()\n",
      "    (2): Flatten(start_dim=1, end_dim=-1)\n",
      "    (3): Linear(in_features=392, out_features=512, bias=True)\n",
      "    (4): ReLU()\n",
      "    (5): Linear(in_features=512, out_features=10, bias=True)\n",
      "  )\n",
      ")\n"
     ]
    }
   ],
   "source": [
    "model = NeuralNetwork().to(device)\n",
    "print(model)"
   ]
  },
  {
   "cell_type": "markdown",
   "metadata": {},
   "source": [
    "Подадим на вход нашей модели случайные данные. Обратите внимание, что данные и модель должны находиться на одном и том же устройстве.\n",
    "\n",
    "Функция Softmax выполняет softmax-преобразование данных по (в данном случае) первому измерению. Нулевое измерение - измерение батча.\n",
    "\n",
    "$$ softmax({x_i}) = \\frac{e^{x_i}}{\\sum_{i=1}^{N}{e^{x_i}}} $$"
   ]
  },
  {
   "cell_type": "code",
   "execution_count": 28,
   "metadata": {
    "tags": []
   },
   "outputs": [
    {
     "name": "stdout",
     "output_type": "stream",
     "text": [
      "Predicted class: tensor([0])\n"
     ]
    }
   ],
   "source": [
    "X = torch.rand(1, 1, 28, 28, device=device)\n",
    "logits = model(X)\n",
    "pred_probab = nn.Softmax(dim=1)(logits)\n",
    "y_pred = pred_probab.argmax(1)\n",
    "print(f\"Predicted class: {y_pred}\")"
   ]
  },
  {
   "cell_type": "markdown",
   "metadata": {},
   "source": [
    "Для лучшего понимания того, что мы сейчас сделали, давайте выполним все операции сети вручную:"
   ]
  },
  {
   "cell_type": "markdown",
   "metadata": {},
   "source": [
    "Обратимся по очереди ко всем элементам контейнера linear_relu_stack (класс Sequential).\n",
    "\n",
    "Первый слой осуществляет конволюцию с ядром 3х3, входным числом каналов 1, выходным числом каналов 2, страйдом 2, паддингом в один элемент с каждой стороны и прибавляет bias. Коэффициенты преобразования - обучаемые параметры модели."
   ]
  },
  {
   "cell_type": "code",
   "execution_count": 29,
   "metadata": {
    "tags": []
   },
   "outputs": [
    {
     "name": "stdout",
     "output_type": "stream",
     "text": [
      "Conv2d(1, 2, kernel_size=(3, 3), stride=(2, 2), padding=(1, 1))\n",
      "torch.Size([1, 2, 14, 14])\n",
      "tensor([[-0.6078, -0.5218, -0.4839, -0.3962],\n",
      "        [-0.5144, -0.4537, -0.4712, -0.2593],\n",
      "        [-0.4851, -0.7627, -0.1893, -0.8026],\n",
      "        [-0.3259, -0.6161, -0.2219, -0.3245]], grad_fn=<SliceBackward0>)\n"
     ]
    }
   ],
   "source": [
    "x0 = model.linear_relu_stack[0](X)\n",
    "print(model.linear_relu_stack[0])\n",
    "print(x0.size())\n",
    "print(x0[0, 0, :4, :4])"
   ]
  },
  {
   "cell_type": "markdown",
   "metadata": {},
   "source": [
    "После вызова ReLU отрицательные элементы стали нулями, а положительные - не изменились."
   ]
  },
  {
   "cell_type": "code",
   "execution_count": 30,
   "metadata": {
    "tags": []
   },
   "outputs": [
    {
     "name": "stdout",
     "output_type": "stream",
     "text": [
      "ReLU()\n",
      "torch.Size([1, 2, 14, 14])\n",
      "tensor([[0., 0., 0., 0.],\n",
      "        [0., 0., 0., 0.],\n",
      "        [0., 0., 0., 0.],\n",
      "        [0., 0., 0., 0.]], grad_fn=<SliceBackward0>)\n"
     ]
    }
   ],
   "source": [
    "x1 = model.linear_relu_stack[1](x0)\n",
    "print(model.linear_relu_stack[1])\n",
    "print(x1.size())\n",
    "print(x1[0, 0, :4, :4])"
   ]
  },
  {
   "cell_type": "markdown",
   "metadata": {},
   "source": [
    "Следующая операция Flatten осуществляет преобразование данных к одномерному виду (кроме размерности батча)"
   ]
  },
  {
   "cell_type": "code",
   "execution_count": 31,
   "metadata": {
    "tags": []
   },
   "outputs": [
    {
     "name": "stdout",
     "output_type": "stream",
     "text": [
      "Flatten(start_dim=1, end_dim=-1)\n",
      "torch.Size([1, 392])\n",
      "tensor([[0., 0., 0., 0., 0., 0., 0., 0., 0., 0.]], grad_fn=<SliceBackward0>)\n"
     ]
    }
   ],
   "source": [
    "x1_flatten = model.linear_relu_stack[2](x1)\n",
    "print(model.linear_relu_stack[2])\n",
    "print(x1_flatten.size())\n",
    "print(x1_flatten[:, :10])"
   ]
  },
  {
   "cell_type": "markdown",
   "metadata": {},
   "source": [
    "Второй слой осуществляет (также обучаемое) линейное преобразование из размерности 14*14*2=392 в 512 и прибавляет bias."
   ]
  },
  {
   "cell_type": "code",
   "execution_count": 32,
   "metadata": {
    "tags": []
   },
   "outputs": [
    {
     "name": "stdout",
     "output_type": "stream",
     "text": [
      "Linear(in_features=392, out_features=512, bias=True)\n",
      "torch.Size([1, 512])\n",
      "tensor([[ 0.0119,  0.0422,  0.0179, -0.0885,  0.0121, -0.0286,  0.0486, -0.0025,\n",
      "         -0.0350, -0.0233]], grad_fn=<SliceBackward0>)\n"
     ]
    }
   ],
   "source": [
    "x2 = model.linear_relu_stack[3](x1_flatten)\n",
    "print(model.linear_relu_stack[3])\n",
    "print(x2.size())\n",
    "print(x2[:, :10])"
   ]
  },
  {
   "cell_type": "markdown",
   "metadata": {},
   "source": [
    "Ещё один ReLU."
   ]
  },
  {
   "cell_type": "code",
   "execution_count": 33,
   "metadata": {
    "tags": []
   },
   "outputs": [
    {
     "name": "stdout",
     "output_type": "stream",
     "text": [
      "ReLU()\n",
      "torch.Size([1, 512])\n",
      "tensor([[0.0119, 0.0422, 0.0179, 0.0000, 0.0121, 0.0000, 0.0486, 0.0000, 0.0000,\n",
      "         0.0000]], grad_fn=<SliceBackward0>)\n"
     ]
    }
   ],
   "source": [
    "x3 = model.linear_relu_stack[4](x2)\n",
    "print(model.linear_relu_stack[4])\n",
    "print(x3.size())\n",
    "print(x3[:, :10])"
   ]
  },
  {
   "cell_type": "markdown",
   "metadata": {},
   "source": [
    "И последний обучаемый полносвязный слой преобразует данные из размерности 512 в 10 (по числу выходных классов)."
   ]
  },
  {
   "cell_type": "code",
   "execution_count": 34,
   "metadata": {
    "tags": []
   },
   "outputs": [
    {
     "name": "stdout",
     "output_type": "stream",
     "text": [
      "Linear(in_features=512, out_features=10, bias=True)\n",
      "torch.Size([1, 10])\n",
      "tensor([[ 0.0626, -0.0288, -0.0437, -0.0182, -0.0167, -0.0018,  0.0402,  0.0449,\n",
      "         -0.0321,  0.0456]], grad_fn=<AddmmBackward0>)\n"
     ]
    }
   ],
   "source": [
    "x4 = model.linear_relu_stack[5](x3)\n",
    "print(model.linear_relu_stack[5])\n",
    "print(x4.size())\n",
    "print(x4)"
   ]
  },
  {
   "cell_type": "markdown",
   "metadata": {},
   "source": [
    "Сравним полученное значение с результатом вызова всей модели:"
   ]
  },
  {
   "cell_type": "code",
   "execution_count": 36,
   "metadata": {
    "tags": []
   },
   "outputs": [
    {
     "name": "stdout",
     "output_type": "stream",
     "text": [
      "tensor([[ 0.0626, -0.0288, -0.0437, -0.0182, -0.0167, -0.0018,  0.0402,  0.0449,\n",
      "         -0.0321,  0.0456]], grad_fn=<AddmmBackward0>)\n"
     ]
    }
   ],
   "source": [
    "print(logits)"
   ]
  },
  {
   "cell_type": "markdown",
   "metadata": {},
   "source": [
    "Они идентичны. Таким образом, наша модель автоматически вызвала все операции из её графа и получила результат."
   ]
  },
  {
   "cell_type": "markdown",
   "metadata": {},
   "source": [
    "Посмотрим, что делает преобразование softmax:"
   ]
  },
  {
   "cell_type": "code",
   "execution_count": 37,
   "metadata": {
    "tags": []
   },
   "outputs": [
    {
     "name": "stdout",
     "output_type": "stream",
     "text": [
      "tensor([[0.1058, 0.0966, 0.0952, 0.0976, 0.0978, 0.0992, 0.1035, 0.1040, 0.0963,\n",
      "         0.1040]], grad_fn=<SoftmaxBackward0>)\n",
      "tensor([1.0000], grad_fn=<SumBackward1>)\n"
     ]
    }
   ],
   "source": [
    "pred_probab = nn.Softmax(dim=1)(logits)\n",
    "print(pred_probab)\n",
    "print(pred_probab.sum(dim=1))"
   ]
  },
  {
   "cell_type": "markdown",
   "metadata": {},
   "source": [
    "Давайте посмотрим на параметры нашей модели. Проитерироваться по ним можно с помощью вызова метода named_parameters()."
   ]
  },
  {
   "cell_type": "code",
   "execution_count": 38,
   "metadata": {
    "tags": []
   },
   "outputs": [
    {
     "name": "stdout",
     "output_type": "stream",
     "text": [
      "Model structure:  NeuralNetwork(\n",
      "  (linear_relu_stack): Sequential(\n",
      "    (0): Conv2d(1, 2, kernel_size=(3, 3), stride=(2, 2), padding=(1, 1))\n",
      "    (1): ReLU()\n",
      "    (2): Flatten(start_dim=1, end_dim=-1)\n",
      "    (3): Linear(in_features=392, out_features=512, bias=True)\n",
      "    (4): ReLU()\n",
      "    (5): Linear(in_features=512, out_features=10, bias=True)\n",
      "  )\n",
      ") \n",
      "\n",
      "\n",
      "Layer: linear_relu_stack.0.weight | Size: torch.Size([2, 1, 3, 3]) | Values : tensor([[[[-0.3031,  0.3198,  0.0365],\n",
      "          [ 0.1245, -0.0053, -0.2835],\n",
      "          [ 0.3070, -0.1153, -0.3265]]],\n",
      "\n",
      "\n",
      "        [[[ 0.3011, -0.1430, -0.1784],\n",
      "          [ 0.2761,  0.1779, -0.2227],\n",
      "          [-0.0404, -0.1838,  0.2623]]]], grad_fn=<SliceBackward0>) \n",
      "\n",
      "Layer: linear_relu_stack.0.bias | Size: torch.Size([2]) | Values : tensor([-0.3002, -0.2147], grad_fn=<SliceBackward0>) \n",
      "\n",
      "Layer: linear_relu_stack.3.weight | Size: torch.Size([512, 392]) | Values : tensor([[-2.0092e-02, -3.1386e-02,  4.2285e-02, -2.8977e-02, -1.0539e-02,\n",
      "          1.0269e-02, -7.7364e-03,  2.2671e-03, -8.3334e-03, -4.7072e-02,\n",
      "          4.1996e-02, -1.9406e-02,  1.2824e-02,  3.3100e-02,  1.6097e-02,\n",
      "         -4.1548e-02, -1.1149e-03,  8.9633e-03,  2.3639e-02,  3.5327e-02,\n",
      "          4.1536e-02, -1.5411e-03,  4.4806e-02, -1.1066e-02, -2.5262e-02,\n",
      "         -1.8119e-02,  4.8010e-02,  2.6081e-02,  1.7051e-02, -2.3726e-02,\n",
      "         -2.6909e-02,  5.7385e-04,  6.9533e-03, -4.4106e-02,  4.0335e-02,\n",
      "         -2.2905e-02, -1.6188e-02, -3.1523e-02,  5.3932e-03, -2.3418e-02,\n",
      "          4.6021e-02,  4.8096e-02,  9.4320e-03, -1.8952e-02,  4.4764e-02,\n",
      "          3.5543e-02,  4.8642e-02, -3.9074e-02, -2.1925e-03, -5.6923e-03,\n",
      "         -1.1643e-02, -4.8404e-03,  5.7430e-03,  5.0025e-02, -5.0357e-02,\n",
      "         -4.2299e-02, -9.3558e-04, -2.8992e-02, -4.0085e-03, -3.6505e-02,\n",
      "         -4.7711e-02,  6.6907e-03, -1.5122e-02,  1.5707e-02,  2.6941e-02,\n",
      "         -2.7586e-02,  2.5810e-02,  1.4729e-02, -1.3400e-02, -3.2626e-02,\n",
      "         -2.0550e-02,  4.9746e-02, -2.9260e-02, -3.7457e-02, -3.3146e-02,\n",
      "          4.1688e-02,  1.8361e-02, -3.0776e-02,  5.0414e-02, -3.9058e-02,\n",
      "         -4.9142e-02, -3.5859e-02,  2.8481e-02, -1.8850e-02, -2.0371e-02,\n",
      "         -1.5802e-02, -3.0025e-02,  4.8407e-02, -5.3782e-04, -1.3970e-02,\n",
      "          4.7343e-02, -4.6879e-02, -1.9787e-02,  4.9160e-02, -3.7474e-02,\n",
      "          1.9057e-02, -3.3974e-02, -4.1424e-02, -1.8799e-02, -3.8192e-02,\n",
      "         -1.4991e-02, -2.7108e-02, -2.1745e-02, -1.4955e-02, -2.1944e-02,\n",
      "         -2.6058e-02, -7.2921e-04,  7.7973e-03, -1.2411e-02, -2.5859e-02,\n",
      "          4.0345e-02, -3.9993e-02,  4.2353e-02,  1.2136e-02, -1.3552e-02,\n",
      "         -4.4216e-02,  9.7713e-03, -4.2135e-02,  3.2176e-02, -3.6330e-04,\n",
      "         -4.4563e-02,  4.8895e-02,  8.4406e-03,  1.7546e-02, -2.6432e-03,\n",
      "          4.3800e-02, -2.4673e-02, -3.5294e-02,  2.8851e-02, -8.5674e-03,\n",
      "          8.1679e-03, -3.9521e-02,  2.0856e-02, -4.9449e-02, -4.0232e-03,\n",
      "         -2.0762e-02, -4.5707e-02,  1.4149e-02, -1.2287e-02,  8.9597e-03,\n",
      "         -4.3231e-02,  4.1822e-02, -4.9646e-02, -2.8551e-02, -3.1416e-02,\n",
      "         -4.1304e-02,  1.3577e-02, -1.8771e-02,  2.0727e-02,  1.4619e-02,\n",
      "          4.5629e-02, -1.4329e-02, -1.6048e-02, -4.6136e-02, -6.3295e-03,\n",
      "          4.9977e-02, -3.2846e-02, -3.6632e-02,  3.0352e-02,  2.0240e-02,\n",
      "          3.8418e-02, -3.4621e-02, -1.6743e-02,  4.6994e-02, -3.1703e-02,\n",
      "         -3.5275e-02, -1.8355e-02, -4.7264e-02, -1.7277e-02,  3.0443e-03,\n",
      "          1.4149e-02,  2.9843e-02, -1.9532e-02, -2.6298e-02, -3.8831e-02,\n",
      "         -1.6231e-03, -1.0666e-02, -4.2415e-02,  2.8106e-02,  1.7027e-02,\n",
      "         -2.7149e-02, -3.8748e-02, -3.1100e-02, -2.6461e-02, -3.3910e-02,\n",
      "         -3.3095e-02,  3.4969e-02, -3.9674e-02,  2.1346e-02, -3.6302e-02,\n",
      "         -2.0713e-02, -1.7539e-02, -2.9499e-03, -1.0321e-02,  2.0758e-02,\n",
      "          4.2041e-02,  3.0912e-02,  2.2896e-02,  3.0850e-02, -3.3374e-02,\n",
      "         -3.0075e-02,  4.2368e-02, -4.8983e-02, -4.7232e-02,  4.5846e-02,\n",
      "          5.6997e-03,  2.5935e-02, -3.4619e-02, -1.0412e-02, -2.6456e-02,\n",
      "         -3.7697e-02, -5.4508e-03, -4.6766e-02,  1.4568e-02,  3.1393e-02,\n",
      "         -2.4749e-02,  3.6443e-02,  3.2829e-02, -2.7923e-02, -4.2709e-02,\n",
      "         -1.8426e-03, -4.2669e-02, -4.5145e-02, -2.4145e-02, -3.9719e-02,\n",
      "         -2.0097e-02, -4.1746e-03,  2.2434e-03, -4.3608e-02,  4.1596e-02,\n",
      "          3.3193e-02, -3.3988e-02, -3.2575e-02,  2.1847e-02,  4.3988e-02,\n",
      "         -3.6064e-02, -1.0781e-02, -3.9149e-02, -1.9324e-02,  5.0237e-02,\n",
      "         -7.5030e-03,  1.9093e-02,  4.7043e-02, -4.7909e-02, -8.0349e-03,\n",
      "         -4.3879e-02, -4.9660e-03, -4.4917e-02, -1.8791e-02,  2.4850e-02,\n",
      "          4.4012e-02,  3.9646e-02, -3.6664e-02, -3.2292e-02, -9.8729e-03,\n",
      "         -7.1082e-03, -1.3210e-02, -3.4231e-02,  4.4667e-02,  3.8153e-02,\n",
      "          3.2379e-03,  3.9590e-03, -3.4546e-02,  1.4345e-02,  1.9507e-02,\n",
      "         -5.0191e-02,  1.7687e-02, -3.4977e-02,  2.8355e-03, -3.8770e-02,\n",
      "         -5.7505e-03, -2.8940e-02, -2.9113e-02,  1.5772e-02, -1.2910e-02,\n",
      "         -1.3611e-02,  2.0754e-02, -4.2032e-02, -3.2663e-02,  3.0196e-02,\n",
      "          4.7861e-02, -2.3585e-02, -3.6273e-02,  2.6568e-02,  4.7389e-02,\n",
      "         -1.3051e-02, -4.4206e-02,  8.7595e-03,  2.1957e-02, -3.8613e-02,\n",
      "          1.8087e-02, -3.2930e-02, -3.4276e-02,  6.8445e-03, -1.7323e-03,\n",
      "          3.4463e-02, -2.6742e-02,  1.4822e-02,  1.8222e-02, -4.8807e-02,\n",
      "         -1.0408e-02,  3.5568e-03, -3.0071e-02,  4.0974e-02, -4.9773e-02,\n",
      "          2.7802e-02, -1.3005e-02, -4.3305e-02, -2.5885e-02,  2.6354e-02,\n",
      "         -3.5698e-03,  1.7904e-02,  4.9087e-02,  3.1791e-02,  2.4358e-02,\n",
      "          4.7575e-02,  6.8670e-03, -2.5393e-02, -2.7486e-02,  2.8654e-02,\n",
      "         -2.0836e-02, -3.8334e-02, -1.0110e-02, -4.5202e-02, -3.0480e-02,\n",
      "          3.1161e-02, -2.1754e-02,  6.9525e-04, -4.6564e-02, -1.5294e-02,\n",
      "          1.8314e-02,  1.3716e-02,  2.2512e-03, -1.1967e-02, -4.0924e-02,\n",
      "          1.5532e-02,  5.8660e-03,  3.0359e-02, -4.6909e-02,  3.3277e-02,\n",
      "          3.8780e-02, -3.2949e-02,  2.3593e-02,  2.3560e-02,  1.6466e-02,\n",
      "         -7.9154e-03,  2.0842e-02,  3.2712e-02, -3.7531e-02, -4.4475e-02,\n",
      "         -2.2989e-02,  2.2526e-02,  1.9903e-02,  3.8359e-02, -1.9574e-02,\n",
      "         -8.5498e-03, -4.0077e-02, -2.3858e-02,  2.4665e-02, -5.0199e-02,\n",
      "         -1.9658e-02, -2.3631e-02, -4.8683e-02, -2.6883e-03, -7.2149e-03,\n",
      "         -3.9895e-02, -4.7417e-02, -1.1928e-02, -3.5703e-03, -1.4709e-02,\n",
      "          4.5658e-02, -2.2887e-02, -2.8644e-02,  3.9990e-03,  2.9767e-02,\n",
      "         -5.6648e-03, -1.0552e-02, -3.5787e-02, -9.5331e-03,  3.2621e-02,\n",
      "          1.7059e-02,  8.7326e-03,  1.0107e-02,  2.0220e-03, -6.2449e-04,\n",
      "         -1.6886e-02,  2.1620e-02,  1.8959e-02,  3.4299e-02, -2.7412e-02,\n",
      "         -3.4054e-02,  2.1351e-02],\n",
      "        [ 2.8166e-02, -1.1435e-02, -3.7868e-02,  1.5505e-02, -2.5043e-02,\n",
      "         -2.5626e-02, -3.2576e-02,  2.2577e-02,  3.1332e-02, -3.8557e-02,\n",
      "         -3.3358e-02, -1.7008e-02,  3.8878e-02,  4.1283e-02,  2.3492e-02,\n",
      "         -3.4383e-02,  4.5821e-02, -2.4152e-02,  4.3611e-02, -4.3061e-03,\n",
      "          4.6697e-02, -5.3015e-05,  1.1591e-02, -3.6019e-02, -5.0422e-02,\n",
      "          1.5579e-02, -1.3959e-02, -1.0776e-02,  8.7869e-03,  2.5310e-02,\n",
      "          5.6867e-03,  1.3742e-02,  1.0474e-02,  3.5762e-02, -2.4519e-02,\n",
      "          2.4344e-02, -1.0638e-02,  1.0304e-02,  4.0764e-02,  4.4351e-02,\n",
      "         -2.3306e-02,  4.7496e-02, -1.0617e-02, -4.6247e-03,  3.4938e-02,\n",
      "          4.0734e-02, -2.5733e-02, -2.3690e-02, -1.7276e-02, -2.9694e-02,\n",
      "          1.5605e-02,  4.2146e-02,  2.5487e-02, -2.5112e-02,  3.6448e-02,\n",
      "          1.2902e-02,  4.1193e-02, -2.3256e-02, -4.0793e-02, -4.8622e-02,\n",
      "         -1.7246e-02,  3.8127e-02, -2.2173e-02, -1.9964e-02, -3.0768e-02,\n",
      "         -3.0866e-02, -1.0786e-02,  4.6414e-02,  3.7362e-02, -3.0642e-02,\n",
      "          3.1465e-03,  1.8266e-02, -9.5068e-03, -5.0425e-02,  4.1357e-02,\n",
      "         -3.5102e-02, -1.0126e-02,  2.9665e-02, -1.8690e-02,  4.1513e-02,\n",
      "         -4.9236e-02, -3.7457e-02, -4.3565e-02,  3.0862e-02, -4.6599e-03,\n",
      "          4.5292e-02, -2.1450e-02, -4.3109e-02,  3.4073e-02,  1.1645e-02,\n",
      "         -2.2596e-02,  1.0029e-03,  3.2732e-02,  6.3373e-03, -4.6873e-02,\n",
      "          1.6009e-02, -4.9843e-02,  1.0019e-02,  3.9466e-02,  4.3480e-02,\n",
      "          2.5487e-02,  4.3007e-02, -2.6164e-02, -4.8922e-02, -2.9687e-02,\n",
      "          1.6914e-03,  1.6731e-02,  4.4530e-02,  1.2142e-02,  4.3849e-02,\n",
      "          2.6107e-02, -4.9735e-02,  2.2094e-02,  4.3461e-03,  6.3472e-03,\n",
      "         -3.2323e-02, -4.9399e-02, -2.0018e-03, -4.5997e-02,  2.4389e-02,\n",
      "         -1.4529e-02,  3.7084e-02, -1.3866e-02,  1.9595e-02, -2.4325e-03,\n",
      "         -2.1663e-02,  1.2704e-02, -1.6496e-02,  1.8873e-02, -3.8026e-02,\n",
      "         -4.1311e-03, -2.7051e-02,  2.6442e-02,  7.1852e-03, -3.0893e-02,\n",
      "          4.0012e-02, -2.2719e-02,  3.2682e-02, -2.9396e-02, -4.4084e-02,\n",
      "          8.6809e-03,  3.0466e-02, -4.1672e-02, -3.8374e-02,  4.7284e-03,\n",
      "         -4.7240e-02,  1.5340e-03, -2.3651e-02, -2.0292e-04, -2.3269e-02,\n",
      "          4.7398e-02,  2.3869e-02,  1.2831e-03, -2.8173e-03,  1.8351e-02,\n",
      "         -2.1870e-02, -2.1589e-02,  2.7562e-02, -4.8384e-02, -2.3399e-02,\n",
      "          2.8735e-02, -2.4992e-02,  2.5109e-02,  4.6278e-02, -2.2915e-02,\n",
      "          2.0166e-02,  1.9208e-02, -3.2821e-03,  3.0935e-02, -4.4510e-02,\n",
      "          6.0244e-03, -2.2398e-02, -3.9817e-02,  1.5028e-02, -4.8135e-02,\n",
      "          1.4445e-02,  5.4257e-03,  2.4021e-02,  9.9208e-03,  3.6257e-02,\n",
      "         -1.2803e-02,  1.2154e-02, -3.8995e-02,  4.6688e-02, -3.9358e-02,\n",
      "         -3.4345e-02,  4.7449e-02, -2.2098e-02,  4.0942e-02,  3.2367e-03,\n",
      "          3.8121e-02, -3.7474e-02, -8.5560e-03,  1.4722e-02,  1.0519e-02,\n",
      "         -1.6297e-02, -2.9179e-02, -7.5147e-03,  2.1736e-02, -3.8426e-02,\n",
      "         -3.4636e-02,  6.1523e-03,  2.4392e-02,  8.7241e-03,  3.2889e-03,\n",
      "          2.8415e-02,  3.3725e-02, -3.9392e-03,  1.1201e-02, -1.7837e-02,\n",
      "          2.5681e-03, -2.1427e-03,  1.8011e-02,  8.3404e-03, -1.6206e-02,\n",
      "          3.7588e-02,  1.6580e-02, -3.9495e-02, -1.4505e-02, -2.1543e-02,\n",
      "         -4.9991e-02, -5.1492e-03,  1.0600e-03, -1.2687e-02, -3.8147e-02,\n",
      "         -2.7292e-02, -2.2307e-02, -4.1830e-02,  4.8032e-02,  4.5700e-02,\n",
      "          3.4975e-02, -3.0865e-02, -4.0809e-02, -5.7657e-03, -2.0746e-02,\n",
      "         -3.2592e-02,  4.4065e-02,  3.6460e-02, -3.6816e-04, -8.8115e-03,\n",
      "          4.1699e-02, -1.6611e-02, -4.6206e-02,  1.4406e-02,  3.0786e-02,\n",
      "          4.2150e-02,  3.6678e-02,  1.9810e-03,  2.5397e-02,  1.1818e-03,\n",
      "          1.6463e-02,  2.9897e-02, -2.8668e-02,  3.0875e-02,  2.3481e-02,\n",
      "          6.7006e-03,  7.2930e-04, -4.3859e-02,  1.6002e-02, -2.0833e-02,\n",
      "         -2.5161e-03,  4.5059e-02, -2.4844e-03,  1.7661e-02,  4.4491e-02,\n",
      "         -1.8804e-03, -3.6692e-02,  1.2770e-02,  3.6005e-02, -5.0478e-02,\n",
      "          2.4157e-02,  2.6049e-02, -4.2124e-02, -5.1084e-03, -3.5303e-02,\n",
      "          2.7179e-02,  3.8162e-02, -4.5604e-02, -1.6748e-02,  3.5528e-02,\n",
      "         -2.0620e-03, -1.7744e-02, -3.1722e-02, -1.5307e-02,  2.8524e-02,\n",
      "          9.0590e-03, -1.9311e-02, -1.6250e-02, -2.2861e-02, -2.8872e-02,\n",
      "         -3.0485e-02,  2.0290e-02,  5.1139e-03, -1.4388e-02,  4.8051e-02,\n",
      "         -1.4834e-02,  3.9714e-03, -4.4807e-02, -2.2396e-02,  3.3934e-02,\n",
      "          4.3141e-03,  1.6833e-02,  4.9658e-02,  4.0268e-02, -2.4958e-02,\n",
      "         -1.5680e-02,  3.1263e-02, -3.7920e-02, -2.8479e-02, -3.6083e-03,\n",
      "          4.1121e-03, -5.8702e-03,  2.1738e-02,  3.1761e-03,  4.0887e-04,\n",
      "         -3.4521e-02, -4.9891e-03,  3.1993e-02, -1.8087e-02, -4.7206e-02,\n",
      "          1.9384e-02, -3.0284e-03,  2.8559e-02, -2.0818e-02,  3.9904e-02,\n",
      "         -1.4830e-02,  9.2630e-04,  2.8389e-02,  4.2274e-02, -6.4816e-03,\n",
      "          3.7045e-02, -2.4303e-02, -2.1239e-02,  4.5730e-02, -1.9899e-02,\n",
      "          3.4291e-02,  1.5550e-02,  7.1592e-03, -2.9846e-02, -4.6104e-02,\n",
      "          1.1430e-03,  4.3688e-02,  3.0257e-02, -1.1461e-02, -2.9541e-02,\n",
      "          5.2686e-03,  1.4993e-02,  1.7060e-02, -3.3557e-02,  3.4095e-02,\n",
      "         -9.4724e-03,  7.5774e-03,  4.9873e-02,  1.6077e-02, -3.5353e-02,\n",
      "         -1.0931e-02,  8.9161e-03, -7.5783e-03,  1.5662e-03, -1.1330e-02,\n",
      "         -4.7721e-02, -8.5489e-03, -9.6055e-03,  4.0544e-02,  2.0969e-02,\n",
      "         -1.3687e-02, -2.9071e-02,  4.5205e-03, -2.7311e-02, -1.9853e-02,\n",
      "          1.1867e-02, -4.8161e-02, -2.5979e-02, -1.2017e-03,  1.2944e-02,\n",
      "          3.6046e-02,  4.7217e-02, -5.7762e-03, -4.2517e-02,  1.5549e-02,\n",
      "         -1.5688e-02,  2.8132e-02,  1.3839e-02, -2.9050e-02,  4.8703e-02,\n",
      "         -6.6399e-03, -2.6441e-02,  1.9815e-02, -1.0257e-03, -4.3979e-02,\n",
      "          4.8525e-03,  3.9147e-02]], grad_fn=<SliceBackward0>) \n",
      "\n",
      "Layer: linear_relu_stack.3.bias | Size: torch.Size([512]) | Values : tensor([-0.0098,  0.0175], grad_fn=<SliceBackward0>) \n",
      "\n",
      "Layer: linear_relu_stack.5.weight | Size: torch.Size([10, 512]) | Values : tensor([[-0.0253,  0.0424, -0.0139,  ...,  0.0094,  0.0006, -0.0270],\n",
      "        [-0.0291, -0.0061, -0.0163,  ...,  0.0275, -0.0205,  0.0152]],\n",
      "       grad_fn=<SliceBackward0>) \n",
      "\n",
      "Layer: linear_relu_stack.5.bias | Size: torch.Size([10]) | Values : tensor([ 0.0415, -0.0320], grad_fn=<SliceBackward0>) \n",
      "\n"
     ]
    }
   ],
   "source": [
    "print(\"Model structure: \", model, \"\\n\\n\")\n",
    "\n",
    "for name, param in model.named_parameters():\n",
    "    print(f\"Layer: {name} | Size: {param.size()} | Values : {param[:2]} \\n\")"
   ]
  },
  {
   "cell_type": "markdown",
   "metadata": {},
   "source": [
    "## Оптимизация параметров модели\n",
    "\n",
    "Для того, чтобы оптимизировать параметры модели (т.е. обучить сеть), нам не хватает всего несколько компонентов.\n",
    "\n",
    "Определим лосс функцию. В нашем примере это будет кросс-энтропия:\n",
    "\n",
    "$$ \\mathrm{H}(p, q) = -\\sum_{i=1}^N p_i\\, \\log q_i $$"
   ]
  },
  {
   "cell_type": "code",
   "execution_count": 42,
   "metadata": {
    "tags": []
   },
   "outputs": [],
   "source": [
    "loss_fn = nn.CrossEntropyLoss()"
   ]
  },
  {
   "cell_type": "markdown",
   "metadata": {},
   "source": [
    "Определим алгоритм оптимизации.\n",
    "В нашем примере это будет стохастический градиентный спуск.\n",
    "Этот алгоритм реализован в классе torch.optim.SGD.\n",
    "На вход его конструктора необходимо передать все обучаемые параметры модели и learning rate."
   ]
  },
  {
   "cell_type": "code",
   "execution_count": 43,
   "metadata": {
    "tags": []
   },
   "outputs": [],
   "source": [
    "learning_rate = 1e-3\n",
    "optimizer = torch.optim.SGD(model.parameters(), lr=learning_rate)"
   ]
  },
  {
   "cell_type": "markdown",
   "metadata": {},
   "source": [
    "Определим функцию обучения, которая будет проходить одну эпоху (т.е. один проход по всему датасету), получать предсказания модели для всех данных, вычислять лосс, градиенты лосса по параметрам модели и производить шаг алгоритма оптимизации.\n",
    "\n",
    "Каждые 100 батчей мы будем печатать значение лосса и текущий прогресс."
   ]
  },
  {
   "cell_type": "code",
   "execution_count": 39,
   "metadata": {
    "tags": []
   },
   "outputs": [],
   "source": [
    "def train_loop(dataloader, model, loss_fn, optimizer):\n",
    "    size = len(dataloader.dataset)\n",
    "    for batch, (X, y) in enumerate(dataloader):\n",
    "        # Получаем предсказания модели для данного батча\n",
    "        pred = model(X)\n",
    "        # Вычисляем лосс\n",
    "        loss = loss_fn(pred, y)\n",
    "\n",
    "        # Backpropagation\n",
    "        # Обнуляем градиенты\n",
    "        optimizer.zero_grad()\n",
    "        # Вычисляем градиент лосса по параметрам модели\n",
    "        loss.backward()\n",
    "        # Производим шаг алгоритма оптимизации\n",
    "        optimizer.step()\n",
    "\n",
    "        if batch % 100 == 0:\n",
    "            loss, current = loss.item(), batch * len(X)\n",
    "            print(f\"loss: {loss:>7f}  [{current:>5d}/{size:>5d}]\")"
   ]
  },
  {
   "cell_type": "markdown",
   "metadata": {},
   "source": [
    "Теперь определим функцию, которая будет вычислять точность модели на тестовой части датасета:"
   ]
  },
  {
   "cell_type": "code",
   "execution_count": 40,
   "metadata": {
    "tags": []
   },
   "outputs": [],
   "source": [
    "def test_loop(dataloader, model, loss_fn):\n",
    "    size = len(dataloader.dataset)\n",
    "    num_batches = len(dataloader)\n",
    "    test_loss, correct = 0, 0\n",
    "\n",
    "    with torch.no_grad():\n",
    "        for X, y in dataloader:\n",
    "            pred = model(X)\n",
    "            test_loss += loss_fn(pred, y).item()\n",
    "            correct += (pred.argmax(1) == y).type(torch.float).sum().item()\n",
    "\n",
    "    test_loss /= num_batches\n",
    "    correct /= size\n",
    "    print(f\"Test Error: \\n Accuracy: {(100*correct):>0.1f}%, Avg loss: {test_loss:>8f} \\n\")"
   ]
  },
  {
   "cell_type": "markdown",
   "metadata": {},
   "source": [
    "А теперь объединим всё вместе. Произведём три эпохи обучения модели. Вызов model.train() переводит модель в режим обучения или тестирования, в зависимости от аргумента."
   ]
  },
  {
   "cell_type": "code",
   "execution_count": 50,
   "metadata": {
    "tags": []
   },
   "outputs": [
    {
     "name": "stdout",
     "output_type": "stream",
     "text": [
      "Epoch 1\n",
      "-------------------------------\n",
      "loss: 0.563364  [    0/60000]\n",
      "loss: 0.571644  [ 6400/60000]\n",
      "loss: 0.609967  [12800/60000]\n",
      "loss: 0.428384  [19200/60000]\n",
      "loss: 0.444787  [25600/60000]\n",
      "loss: 0.588052  [32000/60000]\n",
      "loss: 0.629593  [38400/60000]\n",
      "loss: 0.479290  [44800/60000]\n",
      "loss: 0.762619  [51200/60000]\n",
      "loss: 0.588561  [57600/60000]\n",
      "Test Error: \n",
      " Accuracy: 79.4%, Avg loss: 0.591617 \n",
      "\n",
      "Epoch 2\n",
      "-------------------------------\n",
      "loss: 0.398919  [    0/60000]\n",
      "loss: 0.658170  [ 6400/60000]\n",
      "loss: 0.524479  [12800/60000]\n",
      "loss: 0.560514  [19200/60000]\n",
      "loss: 0.664228  [25600/60000]\n",
      "loss: 0.523852  [32000/60000]\n",
      "loss: 0.509911  [38400/60000]\n",
      "loss: 0.556249  [44800/60000]\n",
      "loss: 0.446823  [51200/60000]\n",
      "loss: 0.636682  [57600/60000]\n",
      "Test Error: \n",
      " Accuracy: 79.7%, Avg loss: 0.585981 \n",
      "\n",
      "Epoch 3\n",
      "-------------------------------\n",
      "loss: 0.493988  [    0/60000]\n",
      "loss: 0.607686  [ 6400/60000]\n",
      "loss: 0.451521  [12800/60000]\n",
      "loss: 0.635936  [19200/60000]\n",
      "loss: 0.506806  [25600/60000]\n",
      "loss: 0.538387  [32000/60000]\n",
      "loss: 0.547397  [38400/60000]\n",
      "loss: 0.723701  [44800/60000]\n",
      "loss: 0.615003  [51200/60000]\n",
      "loss: 0.522818  [57600/60000]\n",
      "Test Error: \n",
      " Accuracy: 80.3%, Avg loss: 0.569575 \n",
      "\n",
      "Epoch 4\n",
      "-------------------------------\n",
      "loss: 0.388339  [    0/60000]\n",
      "loss: 0.451231  [ 6400/60000]\n",
      "loss: 0.669867  [12800/60000]\n",
      "loss: 0.676975  [19200/60000]\n",
      "loss: 0.615064  [25600/60000]\n",
      "loss: 0.502051  [32000/60000]\n",
      "loss: 0.537023  [38400/60000]\n",
      "loss: 0.468969  [44800/60000]\n",
      "loss: 0.618148  [51200/60000]\n",
      "loss: 0.559987  [57600/60000]\n",
      "Test Error: \n",
      " Accuracy: 80.5%, Avg loss: 0.560212 \n",
      "\n",
      "Epoch 5\n",
      "-------------------------------\n",
      "loss: 0.633009  [    0/60000]\n",
      "loss: 0.422159  [ 6400/60000]\n",
      "loss: 0.428455  [12800/60000]\n",
      "loss: 0.397570  [19200/60000]\n",
      "loss: 0.491725  [25600/60000]\n",
      "loss: 0.444013  [32000/60000]\n",
      "loss: 0.684798  [38400/60000]\n",
      "loss: 0.519651  [44800/60000]\n",
      "loss: 0.352174  [51200/60000]\n",
      "loss: 0.618629  [57600/60000]\n",
      "Test Error: \n",
      " Accuracy: 80.8%, Avg loss: 0.552892 \n",
      "\n",
      "Epoch 6\n",
      "-------------------------------\n",
      "loss: 0.564325  [    0/60000]\n",
      "loss: 0.479317  [ 6400/60000]\n",
      "loss: 0.474138  [12800/60000]\n",
      "loss: 0.425174  [19200/60000]\n",
      "loss: 0.547712  [25600/60000]\n",
      "loss: 0.514629  [32000/60000]\n",
      "loss: 0.506851  [38400/60000]\n",
      "loss: 0.403377  [44800/60000]\n",
      "loss: 0.641531  [51200/60000]\n",
      "loss: 0.479863  [57600/60000]\n",
      "Test Error: \n",
      " Accuracy: 81.0%, Avg loss: 0.545108 \n",
      "\n",
      "Epoch 7\n",
      "-------------------------------\n",
      "loss: 0.481599  [    0/60000]\n",
      "loss: 0.466036  [ 6400/60000]\n",
      "loss: 0.559287  [12800/60000]\n",
      "loss: 0.402715  [19200/60000]\n",
      "loss: 0.455002  [25600/60000]\n",
      "loss: 0.450773  [32000/60000]\n",
      "loss: 0.568633  [38400/60000]\n",
      "loss: 0.493855  [44800/60000]\n",
      "loss: 0.523406  [51200/60000]\n",
      "loss: 0.373622  [57600/60000]\n",
      "Test Error: \n",
      " Accuracy: 81.3%, Avg loss: 0.535710 \n",
      "\n",
      "Epoch 8\n",
      "-------------------------------\n",
      "loss: 0.565651  [    0/60000]\n",
      "loss: 0.514710  [ 6400/60000]\n",
      "loss: 0.515661  [12800/60000]\n",
      "loss: 0.596830  [19200/60000]\n",
      "loss: 0.356992  [25600/60000]\n",
      "loss: 0.705218  [32000/60000]\n",
      "loss: 0.333746  [38400/60000]\n",
      "loss: 0.464508  [44800/60000]\n",
      "loss: 0.402136  [51200/60000]\n",
      "loss: 0.624194  [57600/60000]\n",
      "Test Error: \n",
      " Accuracy: 81.6%, Avg loss: 0.530004 \n",
      "\n",
      "Epoch 9\n",
      "-------------------------------\n",
      "loss: 0.528601  [    0/60000]\n",
      "loss: 0.823140  [ 6400/60000]\n",
      "loss: 0.453360  [12800/60000]\n",
      "loss: 0.486118  [19200/60000]\n",
      "loss: 0.575301  [25600/60000]\n",
      "loss: 0.308832  [32000/60000]\n",
      "loss: 0.453836  [38400/60000]\n",
      "loss: 0.556482  [44800/60000]\n",
      "loss: 0.559609  [51200/60000]\n",
      "loss: 0.544873  [57600/60000]\n",
      "Test Error: \n",
      " Accuracy: 81.6%, Avg loss: 0.525795 \n",
      "\n",
      "Epoch 10\n",
      "-------------------------------\n",
      "loss: 0.630631  [    0/60000]\n",
      "loss: 0.632450  [ 6400/60000]\n",
      "loss: 0.377839  [12800/60000]\n",
      "loss: 0.610527  [19200/60000]\n",
      "loss: 0.297040  [25600/60000]\n",
      "loss: 0.490578  [32000/60000]\n",
      "loss: 0.501917  [38400/60000]\n",
      "loss: 0.414169  [44800/60000]\n",
      "loss: 0.486834  [51200/60000]\n",
      "loss: 0.597762  [57600/60000]\n",
      "Test Error: \n",
      " Accuracy: 82.0%, Avg loss: 0.517991 \n",
      "\n",
      "Done!\n"
     ]
    }
   ],
   "source": [
    "epochs = 10\n",
    "for t in range(epochs):\n",
    "    print(f\"Epoch {t+1}\\n-------------------------------\")\n",
    "    model.train(True)\n",
    "    train_loop(train_dataloader, model, loss_fn, optimizer)\n",
    "    model.train(False)\n",
    "    test_loop(test_dataloader, model, loss_fn)\n",
    "print(\"Done!\")"
   ]
  },
  {
   "cell_type": "markdown",
   "metadata": {},
   "source": [
    "Всё работает, модель учится. Теперь сохраним параметры обученной модели в файл (\"чекпоинт\")."
   ]
  },
  {
   "cell_type": "code",
   "execution_count": 45,
   "metadata": {
    "tags": []
   },
   "outputs": [],
   "source": [
    "checkpoint_filename = \"my_model.pt\"\n",
    "torch.save(model.state_dict(), checkpoint_filename)"
   ]
  },
  {
   "cell_type": "code",
   "execution_count": 46,
   "metadata": {
    "tags": []
   },
   "outputs": [
    {
     "name": "stdout",
     "output_type": "stream",
     "text": [
      "my_model.pt\n"
     ]
    }
   ],
   "source": [
    "!ls *.pt"
   ]
  },
  {
   "cell_type": "markdown",
   "metadata": {},
   "source": [
    "Создадим новую модель, загрузим в неё только что сохранённые параметры и протестируем её. eval() - другой способ перевести модель в режим тестирования."
   ]
  },
  {
   "cell_type": "code",
   "execution_count": 47,
   "metadata": {
    "tags": []
   },
   "outputs": [
    {
     "data": {
      "text/plain": [
       "<All keys matched successfully>"
      ]
     },
     "execution_count": 47,
     "metadata": {},
     "output_type": "execute_result"
    }
   ],
   "source": [
    "new_model = NeuralNetwork().eval()\n",
    "state_dict = torch.load(checkpoint_filename)\n",
    "new_model.load_state_dict(state_dict)"
   ]
  },
  {
   "cell_type": "code",
   "execution_count": 48,
   "metadata": {
    "tags": []
   },
   "outputs": [
    {
     "name": "stdout",
     "output_type": "stream",
     "text": [
      "Test Error: \n",
      " Accuracy: 22.9%, Avg loss: 2.290304 \n",
      "\n"
     ]
    }
   ],
   "source": [
    "test_loop(test_dataloader, new_model, loss_fn)"
   ]
  },
  {
   "cell_type": "markdown",
   "metadata": {},
   "source": [
    "Веса загрузились и можно использовать модель."
   ]
  },
  {
   "cell_type": "markdown",
   "metadata": {},
   "source": [
    "## Заключение\n",
    "\n",
    "PyTorch является мощным инструментом в руках исследователя и позволяет воплощать практически любые идеи.\n",
    "\n",
    "Документация доступна здесь: https://pytorch.org/docs/stable/index.html"
   ]
  }
 ],
 "metadata": {
  "kernelspec": {
   "display_name": "Python 3 (ipykernel)",
   "language": "python",
   "name": "python3"
  },
  "language_info": {
   "codemirror_mode": {
    "name": "ipython",
    "version": 3
   },
   "file_extension": ".py",
   "mimetype": "text/x-python",
   "name": "python",
   "nbconvert_exporter": "python",
   "pygments_lexer": "ipython3",
   "version": "3.11.5"
  }
 },
 "nbformat": 4,
 "nbformat_minor": 4
}
